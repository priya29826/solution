{
  "nbformat": 4,
  "nbformat_minor": 0,
  "metadata": {
    "colab": {
      "provenance": []
    },
    "kernelspec": {
      "name": "python3",
      "display_name": "Python 3"
    },
    "language_info": {
      "name": "python"
    }
  },
  "cells": [
    {
      "cell_type": "code",
      "execution_count": 5,
      "metadata": {
        "colab": {
          "base_uri": "https://localhost:8080/"
        },
        "id": "iE7rIg9zbs74",
        "outputId": "c4994ee4-6322-464a-d40b-9288a0c097a5"
      },
      "outputs": [
        {
          "output_type": "stream",
          "name": "stdout",
          "text": [
            "[1, 3, 12, 0, 0]\n",
            "[0]\n"
          ]
        }
      ],
      "source": [
        "#Move ZEROES\n",
        "\n",
        "\n",
        "def moveZeroes(nums):\n",
        "  left=0\n",
        "  for right in range(len(nums)):\n",
        "    if nums[right]!=0:\n",
        "      nums[left],nums[right]=nums[right],nums[left]\n",
        "      left+=1\n",
        "  for i in range(left,len(nums)):\n",
        "    nums[i]=0\n",
        "\n",
        "\n",
        "nums = [0,1,0,3,12]\n",
        "moveZeroes(nums)\n",
        "print(nums)\n",
        "\n",
        "nums= nums = [0]\n",
        "moveZeroes(nums)\n",
        "print(nums)\n"
      ]
    },
    {
      "cell_type": "code",
      "source": [
        "#FIRST UNIQUE CHARACTER IN STRING\n",
        "\n",
        "\n",
        "def firstUniqChar(s):\n",
        "  char_counts={}\n",
        "  for c in s:\n",
        "    if c in char_counts:\n",
        "      char_counts[c]+=1\n",
        "    else:\n",
        "      char_counts[c]=1\n",
        "\n",
        "  for i , c in enumerate(s):\n",
        "    if char_counts[c]==1:\n",
        "      return i\n",
        "\n",
        "  return -1\n",
        "\n",
        "print(firstUniqChar(\"leetcode\"))\n",
        "print(firstUniqChar(\"loveleetcode\"))\n",
        "print(firstUniqChar( \"aabb\"))"
      ],
      "metadata": {
        "colab": {
          "base_uri": "https://localhost:8080/"
        },
        "id": "9Tdf8u1jd1n4",
        "outputId": "c74305f7-2ce8-47a1-8900-3914cb2ee437"
      },
      "execution_count": 8,
      "outputs": [
        {
          "output_type": "stream",
          "name": "stdout",
          "text": [
            "0\n",
            "2\n",
            "-1\n"
          ]
        }
      ]
    },
    {
      "cell_type": "code",
      "source": [],
      "metadata": {
        "id": "U2pHI5L9g_Yi"
      },
      "execution_count": null,
      "outputs": []
    }
  ]
}